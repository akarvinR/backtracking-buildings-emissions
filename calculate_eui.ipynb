{
 "cells": [
  {
   "attachments": {},
   "cell_type": "markdown",
   "metadata": {},
   "source": [
    "We reccomend you calculate the Energy Use Intensity (kBtu/GSF) before training your model. Since the various energy uses are in different units you must first convert them to kBtu, then sum them up to get the total anunal energy use, and lastly divide by the building gross square footage. You will find some starter code in this notebook to calculate the WUI.\n",
    "\n",
    "$$eui = \\dfrac{annual\\,energy\\, use\\,(kBtu)}{building\\,square\\,footage\\,(GSF)}, \\, where\\, annual\\,energy\\,use = electricity(kBtu) + gas(kBtu) + oil(kBtu)$$"
   ]
  },
  {
   "cell_type": "code",
   "execution_count": 3,
   "metadata": {},
   "outputs": [],
   "source": [
    "def kWh_to_kBTu(electricity):\n",
    "    \"Converts kilowatt-hours(kWh) to kilobtus(kBtu)\"\n",
    "    return electricity*3.4121\n",
    "\n",
    "\n",
    "# example use case\n",
    "# df['E'] = df['E'].apply(kWh_to_kBTu)"
   ]
  },
  {
   "cell_type": "code",
   "execution_count": 4,
   "metadata": {},
   "outputs": [],
   "source": [
    "def therms_to_kBTu(gas):\n",
    "    \"Converts therms(thm) to kilobtus(kBtu)\"\n",
    "    return gas*99.976\n",
    "\n",
    "# example use case\n",
    "# df['G'] = df['G'].apply(therms_to_kBTu)"
   ]
  },
  {
   "cell_type": "code",
   "execution_count": 9,
   "metadata": {},
   "outputs": [],
   "source": [
    "def gallons_to_kBTu(oil):\n",
    "    \"Converts gallons to kilobtus(kBtu)\"\n",
    "    return oil*139\n",
    "\n",
    "# example use case\n",
    "# df['O'] = df['O'].apply(gallons_to_kBTu) "
   ]
  },
  {
   "cell_type": "code",
   "execution_count": 10,
   "metadata": {},
   "outputs": [],
   "source": [
    "def eui(E, G, O, GSF): \n",
    "    \"\"\"\n",
    "    Calculates energy use intensity given energy uses and building gross square footage. \n",
    "    : param E - electricity use in kBtu\n",
    "    : param G - gas use in kBtu\n",
    "    : param O - natural oil use in kBtu\n",
    "    : param GSF - building gross square footage\n",
    "    \"\"\"\n",
    "    annual_energy_use = E + G + O\n",
    "    return annual_energy_use/GSF\n",
    "    \n",
    "# example use case\n",
    "# df['eui'] = df.apply(lambda: eui(df['E'], df['G'], df['O'], df['GSF']))"
   ]
  },
  {
   "cell_type": "code",
   "execution_count": 54,
   "metadata": {},
   "outputs": [
    {
     "data": {
      "text/html": [
       "<div>\n",
       "<style scoped>\n",
       "    .dataframe tbody tr th:only-of-type {\n",
       "        vertical-align: middle;\n",
       "    }\n",
       "\n",
       "    .dataframe tbody tr th {\n",
       "        vertical-align: top;\n",
       "    }\n",
       "\n",
       "    .dataframe thead th {\n",
       "        text-align: right;\n",
       "    }\n",
       "</style>\n",
       "<table border=\"1\" class=\"dataframe\">\n",
       "  <thead>\n",
       "    <tr style=\"text-align: right;\">\n",
       "      <th></th>\n",
       "      <th>Building Code</th>\n",
       "      <th>Address</th>\n",
       "      <th>Property Type</th>\n",
       "      <th>E</th>\n",
       "      <th>G</th>\n",
       "      <th>O</th>\n",
       "      <th>Building Gross Footage</th>\n",
       "      <th>E_kBTu</th>\n",
       "      <th>G_kBTu</th>\n",
       "      <th>O_kBTu</th>\n",
       "    </tr>\n",
       "  </thead>\n",
       "  <tbody>\n",
       "    <tr>\n",
       "      <th>0</th>\n",
       "      <td>581</td>\n",
       "      <td>2 Cummington Mall</td>\n",
       "      <td>Research</td>\n",
       "      <td>1486320</td>\n",
       "      <td>42183</td>\n",
       "      <td>0.0</td>\n",
       "      <td>59825.75</td>\n",
       "      <td>5.071472e+06</td>\n",
       "      <td>4.217288e+06</td>\n",
       "      <td>0.0</td>\n",
       "    </tr>\n",
       "    <tr>\n",
       "      <th>1</th>\n",
       "      <td>582</td>\n",
       "      <td>30-38 Cummington Street</td>\n",
       "      <td>Research</td>\n",
       "      <td>1309308</td>\n",
       "      <td>43468</td>\n",
       "      <td>5531.0</td>\n",
       "      <td>36466.44</td>\n",
       "      <td>4.467490e+06</td>\n",
       "      <td>4.345757e+06</td>\n",
       "      <td>768809.0</td>\n",
       "    </tr>\n",
       "    <tr>\n",
       "      <th>2</th>\n",
       "      <td>587</td>\n",
       "      <td>42-44 Cummington Street</td>\n",
       "      <td>Research</td>\n",
       "      <td>3800070</td>\n",
       "      <td>106247</td>\n",
       "      <td>0.0</td>\n",
       "      <td>101335.67</td>\n",
       "      <td>1.296622e+07</td>\n",
       "      <td>1.062215e+07</td>\n",
       "      <td>0.0</td>\n",
       "    </tr>\n",
       "    <tr>\n",
       "      <th>3</th>\n",
       "      <td>595</td>\n",
       "      <td>3-5 Cummington Street (616-620 Comm. Ave.)</td>\n",
       "      <td>Research</td>\n",
       "      <td>3957840</td>\n",
       "      <td>139459</td>\n",
       "      <td>0.0</td>\n",
       "      <td>152457.33</td>\n",
       "      <td>1.350455e+07</td>\n",
       "      <td>1.394255e+07</td>\n",
       "      <td>0.0</td>\n",
       "    </tr>\n",
       "    <tr>\n",
       "      <th>4</th>\n",
       "      <td>597</td>\n",
       "      <td>631-639 Commonwealth Avenue</td>\n",
       "      <td>Research</td>\n",
       "      <td>1588680</td>\n",
       "      <td>39331</td>\n",
       "      <td>190.4</td>\n",
       "      <td>100339.72</td>\n",
       "      <td>5.420735e+06</td>\n",
       "      <td>3.932156e+06</td>\n",
       "      <td>26465.6</td>\n",
       "    </tr>\n",
       "  </tbody>\n",
       "</table>\n",
       "</div>"
      ],
      "text/plain": [
       "   Building Code                                     Address Property Type  \\\n",
       "0            581                           2 Cummington Mall      Research   \n",
       "1            582                     30-38 Cummington Street      Research   \n",
       "2            587                     42-44 Cummington Street      Research   \n",
       "3            595  3-5 Cummington Street (616-620 Comm. Ave.)      Research   \n",
       "4            597                 631-639 Commonwealth Avenue      Research   \n",
       "\n",
       "         E       G       O  Building Gross Footage        E_kBTu  \\\n",
       "0  1486320   42183     0.0                59825.75  5.071472e+06   \n",
       "1  1309308   43468  5531.0                36466.44  4.467490e+06   \n",
       "2  3800070  106247     0.0               101335.67  1.296622e+07   \n",
       "3  3957840  139459     0.0               152457.33  1.350455e+07   \n",
       "4  1588680   39331   190.4               100339.72  5.420735e+06   \n",
       "\n",
       "         G_kBTu    O_kBTu  \n",
       "0  4.217288e+06       0.0  \n",
       "1  4.345757e+06  768809.0  \n",
       "2  1.062215e+07       0.0  \n",
       "3  1.394255e+07       0.0  \n",
       "4  3.932156e+06   26465.6  "
      ]
     },
     "execution_count": 54,
     "metadata": {},
     "output_type": "execute_result"
    }
   ],
   "source": [
    "import pandas as pd\n",
    "\n",
    "# read the building data from a CSV file\n",
    "research_df = pd.read_csv('./data/research.csv')\n",
    "\n",
    "\n",
    "#converting the lectricity, oil and gas to kBTu\n",
    "research_df['E_kBTu'] = research_df['E'].apply(kWh_to_kBTu)\n",
    "research_df['G_kBTu'] = research_df['G'].apply(therms_to_kBTu)\n",
    "research_df['O_kBTu'] = research_df['O'].apply(gallons_to_kBTu)\n",
    "\n",
    "research_df.head(5)"
   ]
  },
  {
   "cell_type": "code",
   "execution_count": 56,
   "metadata": {},
   "outputs": [],
   "source": [
    "# research_df['eui'] = [eui(research_df.iloc[i]['E_kBTu'],\n",
    "# research_df.iloc[i]['G_kBTu'],\n",
    "# research_df.iloc[i]['O_kBTu'],\n",
    "# research_df.iloc[i]['Building Gross Footage']) for i in range(len(research_df))]\n",
    "\n",
    "research_df['eui'] = research_df.apply(lambda x : eui(x['E_kBTu'], x['G_kBTu'], x['O_kBTu'], x['Building Gross Footage']),axis=1)\n"
   ]
  },
  {
   "cell_type": "code",
   "execution_count": 102,
   "metadata": {},
   "outputs": [
    {
     "name": "stdout",
     "output_type": "stream",
     "text": [
      "Defaulting to user installation because normal site-packages is not writeable\n",
      "Requirement already satisfied: matplotlib in /Users/anarghsidhardhan/Library/Python/3.9/lib/python/site-packages (3.7.1)\n",
      "Requirement already satisfied: numpy>=1.20 in /Users/anarghsidhardhan/Library/Python/3.9/lib/python/site-packages (from matplotlib) (1.24.2)\n",
      "Requirement already satisfied: fonttools>=4.22.0 in /Users/anarghsidhardhan/Library/Python/3.9/lib/python/site-packages (from matplotlib) (4.39.2)\n",
      "Requirement already satisfied: cycler>=0.10 in /Users/anarghsidhardhan/Library/Python/3.9/lib/python/site-packages (from matplotlib) (0.11.0)\n",
      "Requirement already satisfied: packaging>=20.0 in /Users/anarghsidhardhan/Library/Python/3.9/lib/python/site-packages (from matplotlib) (23.0)\n",
      "Requirement already satisfied: importlib-resources>=3.2.0 in /Users/anarghsidhardhan/Library/Python/3.9/lib/python/site-packages (from matplotlib) (5.12.0)\n",
      "Requirement already satisfied: kiwisolver>=1.0.1 in /Users/anarghsidhardhan/Library/Python/3.9/lib/python/site-packages (from matplotlib) (1.4.4)\n",
      "Requirement already satisfied: pyparsing>=2.3.1 in /Users/anarghsidhardhan/Library/Python/3.9/lib/python/site-packages (from matplotlib) (3.0.9)\n",
      "Requirement already satisfied: pillow>=6.2.0 in /Users/anarghsidhardhan/Library/Python/3.9/lib/python/site-packages (from matplotlib) (9.4.0)\n",
      "Requirement already satisfied: python-dateutil>=2.7 in /Users/anarghsidhardhan/Library/Python/3.9/lib/python/site-packages (from matplotlib) (2.8.2)\n",
      "Requirement already satisfied: contourpy>=1.0.1 in /Users/anarghsidhardhan/Library/Python/3.9/lib/python/site-packages (from matplotlib) (1.0.7)\n",
      "Requirement already satisfied: zipp>=3.1.0 in /Users/anarghsidhardhan/Library/Python/3.9/lib/python/site-packages (from importlib-resources>=3.2.0->matplotlib) (3.13.0)\n",
      "Requirement already satisfied: six>=1.5 in /Library/Developer/CommandLineTools/Library/Frameworks/Python3.framework/Versions/3.9/lib/python3.9/site-packages (from python-dateutil>=2.7->matplotlib) (1.15.0)\n",
      "\u001b[33mWARNING: You are using pip version 21.2.4; however, version 23.0.1 is available.\n",
      "You should consider upgrading via the '/Library/Developer/CommandLineTools/usr/bin/python3 -m pip install --upgrade pip' command.\u001b[0m\n"
     ]
    }
   ],
   "source": [
    "!pip3 install matplotlib"
   ]
  },
  {
   "cell_type": "code",
   "execution_count": 107,
   "metadata": {},
   "outputs": [
    {
     "data": {
      "text/plain": [
       "Text(0.5, 1.0, 'O vs Building Gross Footage')"
      ]
     },
     "execution_count": 107,
     "metadata": {},
     "output_type": "execute_result"
    },
    {
     "data": {
      "image/png": "[encoded data removed]",
      "text/plain": [
       "<Figure size 1100x600 with 1 Axes>"
      ]
     },
     "metadata": {},
     "output_type": "display_data"
    },
    {
     "data": {
      "image/png": "[encoded data removed]",
      "text/plain": [
       "<Figure size 1100x600 with 1 Axes>"
      ]
     },
     "metadata": {},
     "output_type": "display_data"
    },
    {
     "data": {
      "image/png": "[encoded data removed]",
      "text/plain": [
       "<Figure size 1100x600 with 1 Axes>"
      ]
     },
     "metadata": {},
     "output_type": "display_data"
    }
   ],
   "source": [
    "\n",
    "import matplotlib.pyplot as plt\n",
    "plt.figure(figsize=(11,6))\n",
    "plt.subplot(3,1,1)\n",
    "plt1=plt.scatter(research_df['Building Gross Footage'],research_df['E_kBTu'])\n",
    "plt.ylabel(\"E_kBTu\")\n",
    "plt.xlabel('Building Gross Footage')\n",
    "plt.title(\"E vs Building Gross Footage\")\n",
    "\n",
    "plt.figure(figsize=(11,6))\n",
    "plt.subplot(3,1,2)\n",
    "plt1=plt.scatter(research_df['Building Gross Footage'],research_df['G_kBTu'])\n",
    "plt.ylabel(\"G_kBTu\")\n",
    "plt.xlabel('Building Gross Footage')\n",
    "plt.title(\"G vs Building Gross Footage\")\n",
    "\n",
    "plt.figure(figsize=(11,6))\n",
    "plt.subplot(3,1,3)\n",
    "plt1=plt.scatter(research_df['Building Gross Footage'],research_df['O_kBTu'])\n",
    "plt.ylabel(\"O_kBTu\")\n",
    "plt.xlabel('Building Gross Footage')\n",
    "plt.title(\"O vs Building Gross Footage\")"
   ]
  },
  {
   "cell_type": "code",
   "execution_count": 149,
   "metadata": {},
   "outputs": [
    {
     "name": "stdout",
     "output_type": "stream",
     "text": [
      "For oil, train set model score :  0.663426294332272\n",
      "For oil, test set model score :  -0.11172573507299433\n"
     ]
    }
   ],
   "source": [
    "import pandas as pd\n",
    "import numpy as np\n",
    "from sklearn.linear_model import LinearRegression\n",
    "X = research_df['Building Gross Footage']\n",
    "y_o = research_df['O_kBTu']\n",
    "X = np.array(X)\n",
    "y_o = np.array(y_o)\n",
    "# create a linear regression model and fit it to the training dataset\n",
    "model = LinearRegression()\n",
    "# model.fit(X.reshape(-1,1), y_o.reshape(-1,1))\n",
    "\n",
    "# # estimate the energy usage for a new building with 100,000 square feet\n",
    "# new_building_square_footage = 400268\n",
    "# predicted_energy_usage = model.predict([[new_building_square_footage]])\n",
    "# predicted_energy_usage\n",
    "\n",
    "from sklearn.model_selection import train_test_split\n",
    "X = X.reshape(-1,1)\n",
    "y = y_o.reshape(-1,1)\n",
    "trainX, testX, trainY, testY = train_test_split(X,y,  test_size= 0.2)\n",
    "model.fit(trainX, trainY)\n",
    "print(\"For oil, train set model score : \", model.score(trainX, trainY))\n",
    "print(\"For oil, test set model score : \",model.score(testX,testY))\n",
    "# model.predict(X)"
   ]
  },
  {
   "cell_type": "code",
   "execution_count": 150,
   "metadata": {},
   "outputs": [
    {
     "name": "stdout",
     "output_type": "stream",
     "text": [
      "For electricity, train set model score :  0.8963587360848546\n",
      "For electricity, test set model score :  0.5585812406615931\n"
     ]
    }
   ],
   "source": [
    "X = research_df['Building Gross Footage']\n",
    "y_e = research_df['E_kBTu']\n",
    "X = np.array(X)\n",
    "y_e = np.array(y_e)\n",
    "# create a linear regression model and fit it to the training dataset\n",
    "model = LinearRegression()\n",
    "from sklearn.model_selection import train_test_split\n",
    "X = X.reshape(-1,1)\n",
    "y = y_e.reshape(-1,1)\n",
    "trainX, testX, trainY, testY = train_test_split(X,y,  test_size= 0.2)\n",
    "model.fit(trainX, trainY)\n",
    "print(\"For electricity, train set model score : \", model.score(trainX, trainY))\n",
    "print(\"For electricity, test set model score : \",model.score(testX,testY))\n",
    "# model.predict(X)"
   ]
  },
  {
   "cell_type": "code",
   "execution_count": 151,
   "metadata": {},
   "outputs": [
    {
     "name": "stdout",
     "output_type": "stream",
     "text": [
      "For gas, train set model score :  0.38275414391467577\n",
      "For gas, test set model score :  0.4042958766707624\n"
     ]
    }
   ],
   "source": [
    "X = research_df['Building Gross Footage']\n",
    "y_g = research_df['G_kBTu']\n",
    "X = np.array(X)\n",
    "y_g = np.array(y_g)\n",
    "# create a linear regression model and fit it to the training dataset\n",
    "model = LinearRegression()\n",
    "\n",
    "from sklearn.model_selection import train_test_split\n",
    "X = X.reshape(-1,1)\n",
    "y = y_g.reshape(-1,1)\n",
    "trainX, testX, trainY, testY = train_test_split(X,y,  test_size= 0.2)\n",
    "model.fit(trainX, trainY)\n",
    "print(\"For gas, train set model score : \", model.score(trainX, trainY))\n",
    "print(\"For gas, test set model score : \",model.score(testX,testY))\n",
    "# model.predict(X)"
   ]
  },
  {
   "cell_type": "code",
   "execution_count": 152,
   "metadata": {},
   "outputs": [
    {
     "name": "stdout",
     "output_type": "stream",
     "text": [
      "For EUI, train set model score :  0.08715022203803646\n",
      "For EUI, test set model score :  0.778129344899917\n"
     ]
    }
   ],
   "source": [
    "X = research_df['Building Gross Footage']\n",
    "y_eui = research_df['eui']\n",
    "X = np.array(X)\n",
    "y_eui = np.array(y_eui)\n",
    "# create a linear regression model and fit it to the training dataset\n",
    "model = LinearRegression()\n",
    "\n",
    "from sklearn.model_selection import train_test_split\n",
    "X = X.reshape(-1,1)\n",
    "y = y_eui.reshape(-1,1)\n",
    "trainX, testX, trainY, testY = train_test_split(X,y,  test_size= 0.2)\n",
    "model.fit(trainX, trainY)\n",
    "print(\"For EUI, train set model score : \", model.score(trainX, trainY))\n",
    "print(\"For EUI, test set model score : \",model.score(testX,testY))\n",
    "# model.predict(X)"
   ]
  },
  {
   "cell_type": "code",
   "execution_count": 115,
   "metadata": {},
   "outputs": [
    {
     "data": {
      "text/plain": [
       "Building Code             161\n",
       "Address                   147\n",
       "Property Type             161\n",
       "E (kWh)                   161\n",
       "G(therms)                 161\n",
       "O(gallon)                 161\n",
       "Building Gross Footage    147\n",
       "dtype: int64"
      ]
     },
     "execution_count": 115,
     "metadata": {},
     "output_type": "execute_result"
    }
   ],
   "source": [
    "# read the building data from a CSV file\n",
    "residential_df = pd.read_csv('./data/residential.csv')\n",
    "residential_df.count()\n"
   ]
  },
  {
   "cell_type": "code",
   "execution_count": 116,
   "metadata": {},
   "outputs": [],
   "source": [
    "\n",
    "residential_df.dropna(inplace=True)"
   ]
  },
  {
   "cell_type": "code",
   "execution_count": 123,
   "metadata": {},
   "outputs": [
    {
     "data": {
      "text/plain": [
       "11.94341331459017"
      ]
     },
     "execution_count": 123,
     "metadata": {},
     "output_type": "execute_result"
    }
   ],
   "source": [
    "x = residential_df.iloc[-2]\n",
    "eui(x['E_kBTu'], x['G_kBTu'], x['O_kBTu'], x['Building Gross Footage'])"
   ]
  },
  {
   "cell_type": "code",
   "execution_count": 133,
   "metadata": {},
   "outputs": [
    {
     "data": {
      "text/html": [
       "<div>\n",
       "<style scoped>\n",
       "    .dataframe tbody tr th:only-of-type {\n",
       "        vertical-align: middle;\n",
       "    }\n",
       "\n",
       "    .dataframe tbody tr th {\n",
       "        vertical-align: top;\n",
       "    }\n",
       "\n",
       "    .dataframe thead th {\n",
       "        text-align: right;\n",
       "    }\n",
       "</style>\n",
       "<table border=\"1\" class=\"dataframe\">\n",
       "  <thead>\n",
       "    <tr style=\"text-align: right;\">\n",
       "      <th></th>\n",
       "      <th>Building Code</th>\n",
       "      <th>Address</th>\n",
       "      <th>Property Type</th>\n",
       "      <th>E (kWh)</th>\n",
       "      <th>G(therms)</th>\n",
       "      <th>O(gallon)</th>\n",
       "      <th>Building Gross Footage</th>\n",
       "      <th>E_kBTu</th>\n",
       "      <th>G_kBTu</th>\n",
       "      <th>O_kBTu</th>\n",
       "      <th>eui</th>\n",
       "    </tr>\n",
       "  </thead>\n",
       "  <tbody>\n",
       "    <tr>\n",
       "      <th>0</th>\n",
       "      <td>500</td>\n",
       "      <td>10 Buick Street</td>\n",
       "      <td>Residential</td>\n",
       "      <td>13205241.58</td>\n",
       "      <td>1658548</td>\n",
       "      <td>253894.7</td>\n",
       "      <td>384941.16</td>\n",
       "      <td>4.505760e+07</td>\n",
       "      <td>1.658150e+08</td>\n",
       "      <td>35291363.3</td>\n",
       "      <td>208.730519</td>\n",
       "    </tr>\n",
       "    <tr>\n",
       "      <th>1</th>\n",
       "      <td>506</td>\n",
       "      <td>112 BAY STATE ROAD</td>\n",
       "      <td>Residential</td>\n",
       "      <td>15476.00</td>\n",
       "      <td>852</td>\n",
       "      <td>2571.7</td>\n",
       "      <td>4961.74</td>\n",
       "      <td>5.280566e+04</td>\n",
       "      <td>8.517955e+04</td>\n",
       "      <td>357466.3</td>\n",
       "      <td>82.687114</td>\n",
       "    </tr>\n",
       "    <tr>\n",
       "      <th>2</th>\n",
       "      <td>508</td>\n",
       "      <td>183 BAY STATE ROAD</td>\n",
       "      <td>Residential</td>\n",
       "      <td>21382.00</td>\n",
       "      <td>7269</td>\n",
       "      <td>0.0</td>\n",
       "      <td>8621.75</td>\n",
       "      <td>7.295752e+04</td>\n",
       "      <td>7.267255e+05</td>\n",
       "      <td>0.0</td>\n",
       "      <td>8.462032</td>\n",
       "    </tr>\n",
       "    <tr>\n",
       "      <th>3</th>\n",
       "      <td>509</td>\n",
       "      <td>610 BEACON STREET</td>\n",
       "      <td>Residential</td>\n",
       "      <td>1201216.00</td>\n",
       "      <td>4408</td>\n",
       "      <td>99773.0</td>\n",
       "      <td>203525.46</td>\n",
       "      <td>4.098669e+06</td>\n",
       "      <td>4.406942e+05</td>\n",
       "      <td>13868447.0</td>\n",
       "      <td>88.279452</td>\n",
       "    </tr>\n",
       "    <tr>\n",
       "      <th>4</th>\n",
       "      <td>510</td>\n",
       "      <td>68-70 BAY STATE ROAD</td>\n",
       "      <td>Residential</td>\n",
       "      <td>18803.00</td>\n",
       "      <td>0</td>\n",
       "      <td>0.0</td>\n",
       "      <td>11906.90</td>\n",
       "      <td>6.415772e+04</td>\n",
       "      <td>0.000000e+00</td>\n",
       "      <td>0.0</td>\n",
       "      <td>5.388280</td>\n",
       "    </tr>\n",
       "    <tr>\n",
       "      <th>...</th>\n",
       "      <td>...</td>\n",
       "      <td>...</td>\n",
       "      <td>...</td>\n",
       "      <td>...</td>\n",
       "      <td>...</td>\n",
       "      <td>...</td>\n",
       "      <td>...</td>\n",
       "      <td>...</td>\n",
       "      <td>...</td>\n",
       "      <td>...</td>\n",
       "      <td>...</td>\n",
       "    </tr>\n",
       "    <tr>\n",
       "      <th>155</th>\n",
       "      <td>843</td>\n",
       "      <td>25 ABERDEEN STREET</td>\n",
       "      <td>Residential</td>\n",
       "      <td>12368.58</td>\n",
       "      <td>6671</td>\n",
       "      <td>0.0</td>\n",
       "      <td>7113.74</td>\n",
       "      <td>4.220283e+04</td>\n",
       "      <td>6.669399e+05</td>\n",
       "      <td>0.0</td>\n",
       "      <td>5.932580</td>\n",
       "    </tr>\n",
       "    <tr>\n",
       "      <th>156</th>\n",
       "      <td>845</td>\n",
       "      <td>27 ABERDEEN STREET</td>\n",
       "      <td>Residential</td>\n",
       "      <td>29920.67</td>\n",
       "      <td>9305</td>\n",
       "      <td>0.0</td>\n",
       "      <td>8248.13</td>\n",
       "      <td>1.020923e+05</td>\n",
       "      <td>9.302767e+05</td>\n",
       "      <td>0.0</td>\n",
       "      <td>12.377632</td>\n",
       "    </tr>\n",
       "    <tr>\n",
       "      <th>158</th>\n",
       "      <td>848</td>\n",
       "      <td>853 BEACON STREET</td>\n",
       "      <td>Residential</td>\n",
       "      <td>10286.17</td>\n",
       "      <td>0</td>\n",
       "      <td>3928.2</td>\n",
       "      <td>6477.41</td>\n",
       "      <td>3.509744e+04</td>\n",
       "      <td>0.000000e+00</td>\n",
       "      <td>546019.8</td>\n",
       "      <td>89.714445</td>\n",
       "    </tr>\n",
       "    <tr>\n",
       "      <th>159</th>\n",
       "      <td>849</td>\n",
       "      <td>875 BEACON STREET</td>\n",
       "      <td>Residential</td>\n",
       "      <td>4897.00</td>\n",
       "      <td>647</td>\n",
       "      <td>0.0</td>\n",
       "      <td>6814.93</td>\n",
       "      <td>1.670905e+04</td>\n",
       "      <td>6.468447e+04</td>\n",
       "      <td>0.0</td>\n",
       "      <td>2.451831</td>\n",
       "    </tr>\n",
       "    <tr>\n",
       "      <th>160</th>\n",
       "      <td>851</td>\n",
       "      <td>124 BAY STATE ROAD</td>\n",
       "      <td>Residential</td>\n",
       "      <td>2755.00</td>\n",
       "      <td>0</td>\n",
       "      <td>3510.5</td>\n",
       "      <td>5617.25</td>\n",
       "      <td>9.400336e+03</td>\n",
       "      <td>0.000000e+00</td>\n",
       "      <td>487959.5</td>\n",
       "      <td>88.541517</td>\n",
       "    </tr>\n",
       "  </tbody>\n",
       "</table>\n",
       "<p>147 rows × 11 columns</p>\n",
       "</div>"
      ],
      "text/plain": [
       "     Building Code               Address Property Type      E (kWh)  \\\n",
       "0              500       10 Buick Street   Residential  13205241.58   \n",
       "1              506    112 BAY STATE ROAD   Residential     15476.00   \n",
       "2              508    183 BAY STATE ROAD   Residential     21382.00   \n",
       "3              509     610 BEACON STREET   Residential   1201216.00   \n",
       "4              510  68-70 BAY STATE ROAD   Residential     18803.00   \n",
       "..             ...                   ...           ...          ...   \n",
       "155            843    25 ABERDEEN STREET   Residential     12368.58   \n",
       "156            845    27 ABERDEEN STREET   Residential     29920.67   \n",
       "158            848     853 BEACON STREET   Residential     10286.17   \n",
       "159            849     875 BEACON STREET   Residential      4897.00   \n",
       "160            851    124 BAY STATE ROAD   Residential      2755.00   \n",
       "\n",
       "     G(therms)  O(gallon)  Building Gross Footage        E_kBTu        G_kBTu  \\\n",
       "0      1658548   253894.7               384941.16  4.505760e+07  1.658150e+08   \n",
       "1          852     2571.7                 4961.74  5.280566e+04  8.517955e+04   \n",
       "2         7269        0.0                 8621.75  7.295752e+04  7.267255e+05   \n",
       "3         4408    99773.0               203525.46  4.098669e+06  4.406942e+05   \n",
       "4            0        0.0                11906.90  6.415772e+04  0.000000e+00   \n",
       "..         ...        ...                     ...           ...           ...   \n",
       "155       6671        0.0                 7113.74  4.220283e+04  6.669399e+05   \n",
       "156       9305        0.0                 8248.13  1.020923e+05  9.302767e+05   \n",
       "158          0     3928.2                 6477.41  3.509744e+04  0.000000e+00   \n",
       "159        647        0.0                 6814.93  1.670905e+04  6.468447e+04   \n",
       "160          0     3510.5                 5617.25  9.400336e+03  0.000000e+00   \n",
       "\n",
       "         O_kBTu         eui  \n",
       "0    35291363.3  208.730519  \n",
       "1      357466.3   82.687114  \n",
       "2           0.0    8.462032  \n",
       "3    13868447.0   88.279452  \n",
       "4           0.0    5.388280  \n",
       "..          ...         ...  \n",
       "155         0.0    5.932580  \n",
       "156         0.0   12.377632  \n",
       "158    546019.8   89.714445  \n",
       "159         0.0    2.451831  \n",
       "160    487959.5   88.541517  \n",
       "\n",
       "[147 rows x 11 columns]"
      ]
     },
     "execution_count": 133,
     "metadata": {},
     "output_type": "execute_result"
    }
   ],
   "source": [
    "#converting the lectricity, oil and gas to kBTu\n",
    "residential_df['E_kBTu'] = residential_df['E (kWh)'].apply(kWh_to_kBTu)\n",
    "residential_df['G_kBTu'] = residential_df['G(therms)'].apply(therms_to_kBTu)\n",
    "residential_df['O_kBTu'] = residential_df['O(gallon)'].apply(gallons_to_kBTu)\n",
    "residential_df['eui'] = residential_df.apply(lambda x : eui(x['E_kBTu'], 0, x['O_kBTu'], x['Building Gross Footage']),axis=1)\n",
    "\n",
    "residential_df\n"
   ]
  },
  {
   "cell_type": "code",
   "execution_count": 134,
   "metadata": {},
   "outputs": [
    {
     "data": {
      "text/plain": [
       "Building Code             False\n",
       "Address                   False\n",
       "Property Type             False\n",
       "E (kWh)                   False\n",
       "G(therms)                 False\n",
       "O(gallon)                 False\n",
       "Building Gross Footage    False\n",
       "E_kBTu                    False\n",
       "G_kBTu                    False\n",
       "O_kBTu                    False\n",
       "eui                       False\n",
       "dtype: bool"
      ]
     },
     "execution_count": 134,
     "metadata": {},
     "output_type": "execute_result"
    }
   ],
   "source": [
    "residential_df.isna().any()"
   ]
  },
  {
   "cell_type": "code",
   "execution_count": 135,
   "metadata": {},
   "outputs": [
    {
     "data": {
      "text/plain": [
       "Text(0.5, 1.0, 'O vs Building Gross Footage')"
      ]
     },
     "execution_count": 135,
     "metadata": {},
     "output_type": "execute_result"
    },
    {
     "data": {
      "image/png": "[encoded data removed]",
      "text/plain": [
       "<Figure size 1100x600 with 1 Axes>"
      ]
     },
     "metadata": {},
     "output_type": "display_data"
    },
    {
     "data": {
      "image/png": "[encoded data removed]",
      "text/plain": [
       "<Figure size 1100x600 with 1 Axes>"
      ]
     },
     "metadata": {},
     "output_type": "display_data"
    },
    {
     "data": {
      "image/png": "[encoded data removed]",
      "text/plain": [
       "<Figure size 1100x600 with 1 Axes>"
      ]
     },
     "metadata": {},
     "output_type": "display_data"
    }
   ],
   "source": [
    "\n",
    "import matplotlib.pyplot as plt\n",
    "plt.figure(figsize=(11,6))\n",
    "plt.subplot(3,1,1)\n",
    "plt1=plt.scatter(residential_df['Building Gross Footage'],residential_df['E_kBTu'])\n",
    "plt.ylabel(\"E_kBTu\")\n",
    "plt.xlabel('Building Gross Footage')\n",
    "plt.title(\"E vs Building Gross Footage\")\n",
    "\n",
    "plt.figure(figsize=(11,6))\n",
    "plt.subplot(3,1,2)\n",
    "plt1=plt.scatter(residential_df['Building Gross Footage'],residential_df['G_kBTu'])\n",
    "plt.ylabel(\"G_kBTu\")\n",
    "plt.xlabel('Building Gross Footage')\n",
    "plt.title(\"G vs Building Gross Footage\")\n",
    "\n",
    "plt.figure(figsize=(11,6))\n",
    "plt.subplot(3,1,3)\n",
    "plt1=plt.scatter(residential_df['Building Gross Footage'],residential_df['O_kBTu'])\n",
    "plt.ylabel(\"O_kBTu\")\n",
    "plt.xlabel('Building Gross Footage')\n",
    "plt.title(\"O vs Building Gross Footage\")"
   ]
  },
  {
   "cell_type": "code",
   "execution_count": 147,
   "metadata": {},
   "outputs": [
    {
     "name": "stdout",
     "output_type": "stream",
     "text": [
      "For EUI, train set model score :  0.008508464205581379\n",
      "For EUI, test set model score :  -0.04613771512469156\n"
     ]
    }
   ],
   "source": [
    "X = residential_df['Building Gross Footage']\n",
    "y_eui = residential_df['eui']\n",
    "X = np.array(X)\n",
    "y_eui = np.array(y_eui)\n",
    "# create a linear regression model and fit it to the training dataset\n",
    "model = LinearRegression()\n",
    "\n",
    "\n",
    "from sklearn.model_selection import train_test_split\n",
    "X = X.reshape(-1,1)\n",
    "y = y_eui.reshape(-1,1)\n",
    "trainX, testX, trainY, testY = train_test_split(X,y,  test_size= 0.2)\n",
    "model.fit(trainX, trainY)\n",
    "print(\"For EUI, train set model score : \", model.score(trainX, trainY))\n",
    "print(\"For EUI, test set model score : \",model.score(testX,testY))\n",
    "# model.predict(X)"
   ]
  },
  {
   "cell_type": "code",
   "execution_count": 155,
   "metadata": {},
   "outputs": [
    {
     "name": "stdout",
     "output_type": "stream",
     "text": [
      "For gas, train set model score :  0.23736825744475876\n",
      "For gas, test set model score :  0.8775621156314627\n"
     ]
    }
   ],
   "source": [
    "X = residential_df['Building Gross Footage']\n",
    "y_g = residential_df['G_kBTu']\n",
    "X = np.array(X)\n",
    "y_g = np.array(y_g)\n",
    "# create a linear regression model and fit it to the training dataset\n",
    "model = LinearRegression()\n",
    "\n",
    "from sklearn.model_selection import train_test_split\n",
    "X = X.reshape(-1,1)\n",
    "y = y_g.reshape(-1,1)\n",
    "trainX, testX, trainY, testY = train_test_split(X,y,  test_size= 0.2)\n",
    "model.fit(trainX, trainY)\n",
    "print(\"For gas, train set model score : \", model.score(trainX, trainY))\n",
    "print(\"For gas, test set model score : \",model.score(testX,testY))\n",
    "# model.predict(X)"
   ]
  },
  {
   "cell_type": "code",
   "execution_count": 131,
   "metadata": {},
   "outputs": [
    {
     "name": "stdout",
     "output_type": "stream",
     "text": [
      "For electricity, train set model score :  0.9404853235127256\n",
      "For electricity, test set model score :  0.6110355592923586\n"
     ]
    }
   ],
   "source": [
    "X = research_df['Building Gross Footage']\n",
    "y_e = research_df['E_kBTu']\n",
    "X = np.array(X)\n",
    "y_e = np.array(y_e)\n",
    "# create a linear regression model and fit it to the training dataset\n",
    "model = LinearRegression()\n",
    "model.fit(X.reshape(-1,1), y_e.reshape(-1,1))\n",
    "\n",
    "# estimate the energy usage for a new building with 100,000 square feet\n",
    "new_building_square_footage = 400268\n",
    "predicted_energy_usage = model.predict([[new_building_square_footage]])\n",
    "predicted_energy_usage\n",
    "\n",
    "from sklearn.model_selection import train_test_split\n",
    "X = X.reshape(-1,1)\n",
    "y = y_e.reshape(-1,1)\n",
    "trainX, testX, trainY, testY = train_test_split(X,y,  test_size= 0.2)\n",
    "model.fit(trainX, trainY)\n",
    "print(\"For electricity, train set model score : \", model.score(trainX, trainY))\n",
    "print(\"For electricity, test set model score : \",model.score(testX,testY))\n",
    "# model.predict(X)"
   ]
  },
  {
   "cell_type": "code",
   "execution_count": 156,
   "metadata": {},
   "outputs": [
    {
     "name": "stdout",
     "output_type": "stream",
     "text": [
      "For oil, train set model score :  0.7323573365707077\n",
      "For oil, test set model score :  -6.8132119650533145\n"
     ]
    }
   ],
   "source": [
    "import pandas as pd\n",
    "import numpy as np\n",
    "from sklearn.linear_model import LinearRegression\n",
    "X = residential_df['Building Gross Footage']\n",
    "y_o = residential_df['O_kBTu']\n",
    "X = np.array(X)\n",
    "y_o = np.array(y_o)\n",
    "# create a linear regression model and fit it to the training dataset\n",
    "model = LinearRegression()\n",
    "\n",
    "from sklearn.model_selection import train_test_split\n",
    "X = X.reshape(-1,1)\n",
    "y = y_o.reshape(-1,1)\n",
    "trainX, testX, trainY, testY = train_test_split(X,y,  test_size= 0.2)\n",
    "model.fit(trainX, trainY)\n",
    "print(\"For oil, train set model score : \", model.score(trainX, trainY))\n",
    "print(\"For oil, test set model score : \",model.score(testX,testY))\n",
    "# model.predict(X)"
   ]
  },
  {
   "cell_type": "code",
   "execution_count": null,
   "metadata": {},
   "outputs": [],
   "source": []
  }
 ],
 "metadata": {
  "kernelspec": {
   "display_name": "Python 3",
   "language": "python",
   "name": "python3"
  },
  "language_info": {
   "codemirror_mode": {
    "name": "ipython",
    "version": 3
   },
   "file_extension": ".py",
   "mimetype": "text/x-python",
   "name": "python",
   "nbconvert_exporter": "python",
   "pygments_lexer": "ipython3",
   "version": "3.9.6"
  },
  "orig_nbformat": 4
 },
 "nbformat": 4,
 "nbformat_minor": 2
}
